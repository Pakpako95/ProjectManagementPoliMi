{
  "nbformat": 4,
  "nbformat_minor": 0,
  "metadata": {
    "colab": {
      "provenance": [],
      "collapsed_sections": [
        "Da4I4X2wQUB2",
        "ZwvfBE2VQZOC",
        "cUd27BxBViNF",
        "6Hg4B2rZYPmZ",
        "JVis37PeBKxu",
        "IlPs6v3eDc89",
        "vCUlnwL3M-LH",
        "rzdyTf8PjqU-",
        "KWOqWDk1n424",
        "CuB_HDjhvAD1",
        "H_OmKa7PAfNg"
      ],
      "authorship_tag": "ABX9TyN46ee9DD6bRVsfBwFSieTf",
      "include_colab_link": true
    },
    "kernelspec": {
      "name": "python3",
      "display_name": "Python 3"
    },
    "language_info": {
      "name": "python"
    }
  },
  "cells": [
    {
      "cell_type": "markdown",
      "metadata": {
        "id": "view-in-github",
        "colab_type": "text"
      },
      "source": [
        "<a href=\"https://colab.research.google.com/github/Pakpako95/ProjectManagementPoliMi/blob/main/ProjectManagementPOLIMI.ipynb\" target=\"_parent\"><img src=\"https://colab.research.google.com/assets/colab-badge.svg\" alt=\"Open In Colab\"/></a>"
      ]
    },
    {
      "cell_type": "markdown",
      "source": [
        "# **🌐Project Management: Beyond planning and control**"
      ],
      "metadata": {
        "id": "ifuVhSIOQEpf"
      }
    },
    {
      "cell_type": "markdown",
      "source": [
        "## **🟢Introduction to Projects and Project Management Principles**"
      ],
      "metadata": {
        "id": "5al6A0hZ_8Rx"
      }
    },
    {
      "cell_type": "markdown",
      "source": [
        "### **◽Processes VS Projects**"
      ],
      "metadata": {
        "id": "Da4I4X2wQUB2"
      }
    },
    {
      "cell_type": "markdown",
      "source": [
        "#### **💠What is a project**"
      ],
      "metadata": {
        "id": "ZwvfBE2VQZOC"
      }
    },
    {
      "cell_type": "markdown",
      "source": [
        "\n",
        "*A project is an endeavour in which human, material and financial resources are organised ion a novel way, to undertake a unique scope of work, or given specification, within constraints of cost and time, so as to achieve beneficial change defined by quanitative and qualitative objectives.*\n",
        "\n",
        "-J. R. Turner\n",
        "\n",
        "**Iron Triangle**\n",
        "\n",
        " * Scope\n",
        " * Time\n",
        " * Cost\n",
        "\n",
        "This elements are interconnected and they affects each other but are no equal.\n",
        "\n"
      ],
      "metadata": {
        "id": "aV-IvT9JQ4qa"
      }
    },
    {
      "cell_type": "markdown",
      "source": [
        "#### **💠Processes and processes**"
      ],
      "metadata": {
        "id": "cUd27BxBViNF"
      }
    },
    {
      "cell_type": "markdown",
      "source": [
        "\n",
        "Managers are required to organise their resources to get the job done.\n",
        "\n",
        "* **Processes:** Doing better what we already do.\n",
        "\n",
        "* **Projects:** Introduce new results, outputs or processes.\n",
        "\n",
        "Projects are the art of master innovation and change.\n",
        "\n",
        "Output: A project outcome is not routinary and standard, but UNIQUE.\n",
        "\n",
        "Projects are processes that have never been done before.\n",
        "\n",
        "**The Learning Curve Effect. To major repetition minor time required.\n",
        "\n",
        "**The more we move away from the pure processes the more we will have to introduce new tools, new techniques and approaches to face the uniqueness of the project**\n",
        "\n",
        "\n"
      ],
      "metadata": {
        "id": "ML1iltj5ViNG"
      }
    },
    {
      "cell_type": "markdown",
      "source": [
        "#### **💠Projects, programs and portfolios**"
      ],
      "metadata": {
        "id": "6Hg4B2rZYPmZ"
      }
    },
    {
      "cell_type": "markdown",
      "source": [
        "* **Project:** Is a set of activites to achieve a unique output, in compliance with time and cost constraints.\n",
        "\n",
        "* **Programs:** A program is a set of projects.\n",
        "\n",
        "\n",
        "* **Portfolios:** Is a set of programs and projects.\n",
        "\n"
      ],
      "metadata": {
        "id": "5fZ20aYdBJRg"
      }
    },
    {
      "cell_type": "markdown",
      "source": [
        "### **◽Project Management Principles**"
      ],
      "metadata": {
        "id": "fUa9EKmAjc2n"
      }
    },
    {
      "cell_type": "markdown",
      "source": [
        "#### **💠Projects as arrays of decisions**"
      ],
      "metadata": {
        "id": "JVis37PeBKxu"
      }
    },
    {
      "cell_type": "markdown",
      "source": [
        "A project is an array of decisions to be made. *Projects are managerial tools to obtain unique and novel outputs*.\n",
        "\n",
        "Consider a decisions cycle with opportunities and constraints.\n"
      ],
      "metadata": {
        "id": "51vxEILQBKxv"
      }
    },
    {
      "cell_type": "markdown",
      "source": [
        "#### **💠Cost-to-change and uncertainty**"
      ],
      "metadata": {
        "id": "IlPs6v3eDc89"
      }
    },
    {
      "cell_type": "markdown",
      "source": [
        "**Cost-to-change:** The cost of change increase exponentially with the time. It is important to decide when is the better time to make changes according to the project.\n",
        "\n",
        "**Uncertainty:** When we start a project, we know what to expect but not how to achieve it. The Uncertainty is high at the beginning of a project, but with the time is going down because it is normalizing the expected results according to the natural progress.\n",
        "\n",
        "The combined effect off this two curves allow a Window Opportunity. This is where the decision should be taken. Enlarge this window as much as possible. (Front Loading is the beginning of this space, and the other one is called Flexibility)\n",
        "\n",
        "\n"
      ],
      "metadata": {
        "id": "6DNsh5cPDc8-"
      }
    },
    {
      "cell_type": "markdown",
      "source": [
        "#### **💠The role of the anticipation principle and the stage-gate**"
      ],
      "metadata": {
        "id": "vCUlnwL3M-LH"
      }
    },
    {
      "cell_type": "markdown",
      "source": [
        "\n",
        "**Stage and Gate.**\n",
        "\n",
        "This is a tool for managing new products.\n",
        "\n",
        "The main stages departing from the idea are:\n",
        "\n",
        "1. Preliminary assessment.\n",
        "2. Detailed investigation (business case preparation)\n",
        "3. Development\n",
        "4. Testing and validation\n",
        "5. Production and Marketing Launch\n",
        "\n",
        "Between every stage exists a Gate that is the validation of the stage and it defines if it is possible to advance to the next stage or not. Afeter all of this process it comes the Post-implementation review.\n",
        "\n",
        "\n",
        "**The front loading process** This approach born to avoid uncertainty or to reduce costs of change. This can be reached focusing in three main elements:\n",
        "\n",
        "1. Applying shared and standard techniques for planning and controlling.\n",
        "2. Involving the stakeholders.\n",
        "3. Anticipating the creation of knowledge.\n",
        "\n",
        "\n"
      ],
      "metadata": {
        "id": "FlBAbmIYM-LH"
      }
    },
    {
      "cell_type": "markdown",
      "source": [
        "#### **💠The role of flexibility in turbulent environments**"
      ],
      "metadata": {
        "id": "rzdyTf8PjqU-"
      }
    },
    {
      "cell_type": "markdown",
      "source": [
        "\n",
        "**Turbulent contexts.** Hight probability that dynamics external to the project heavily impact on the project itself.\n",
        "\n",
        "We define turbulent those sectors in which the market and technology changes with frequency, to avoid to develop or launch obsolete products we have to base our project in flexibility to have the adaptation possibility.\n",
        "\n",
        "\n",
        "\n"
      ],
      "metadata": {
        "id": "sKi1zj01jqU_"
      }
    },
    {
      "cell_type": "markdown",
      "source": [
        "#### **💠The drivers of flexibility**"
      ],
      "metadata": {
        "id": "KWOqWDk1n424"
      }
    },
    {
      "cell_type": "markdown",
      "source": [
        "**Flexibility:**\n",
        "\n",
        "- **Agile Process** Test every possible solution as soon as possible.\n",
        "\n",
        "- **Redundancies** Exploring multiple alternatives to find the best outcome.\n",
        "\n",
        "- **Overskilling** High competence level.\n",
        "\n",
        "- **Modular Architecture** Focuses in Output. Is a given by the sum of all its parts, which are called components, and the logics that link them. Focus on funcitonalitites of the final product.\n",
        "\n",
        "        If the same component is linked with multiple functions is INTEGRATED ARCHITECTURE.\n",
        "\n",
        "        If each component is linked with a clear function is MODULAR ARCHITECTURE.\n",
        "\n",
        "        The cost is higher (more competences, more cycles, more architecture design) to reduce the expected cost of changes.\n",
        "\n",
        "\n",
        "\n",
        "\n",
        "\n",
        "\n",
        "\n"
      ],
      "metadata": {
        "id": "sbSBR_C6n425"
      }
    },
    {
      "cell_type": "markdown",
      "source": [
        "#### **💠The rise of Agile project management**"
      ],
      "metadata": {
        "id": "CuB_HDjhvAD1"
      }
    },
    {
      "cell_type": "markdown",
      "source": [
        "**Agile Project Management**\n",
        "\n",
        "Can be considere the practical application of the flexible principle. Agile is based in:\n",
        "\n",
        "1. Redundancy\n",
        "2. Constant re-design\n",
        "3. Continous specification changes\n",
        "\n",
        "\n",
        "**2001 AGILE MANIFESTO**\n",
        "\n",
        "*We are uncovering better ways of developing software by doing it helping others do it.*\n",
        "\n",
        "Through this work we have come to value:\n",
        "\n",
        "- Individuals and interaction over processes and tools\n",
        "- Working software over comprehensive documentation\n",
        "- CUstomer collaboration over contract negotioation\n",
        "- Responding to change over following a plan\n",
        "\n",
        "That is, while there is value in the items on the right, we value the items on the left more.\n",
        "\n",
        "\n",
        "**5 Key Drivers to apply Agile**\n",
        "\n",
        "1. Variability of the market.\n",
        "2. Ease of involving the client in iterative and continuous processes.\n",
        "3. Degree of uniqueness and innovation of the project output.\n",
        "4. Possibility of breaking down the output into self-testable sub-deliverables.\n",
        "5. Reversibility of errors, to turn them into learning.\n",
        "\n",
        "\n",
        "\n"
      ],
      "metadata": {
        "id": "xVzT2SbcvAD2"
      }
    },
    {
      "cell_type": "markdown",
      "source": [
        "#### **💠The rise of hybrid approaches**"
      ],
      "metadata": {
        "id": "H_OmKa7PAfNg"
      }
    },
    {
      "cell_type": "markdown",
      "source": [
        "Companies started to use agile approaches by making changes to the original structure.\n",
        "\n",
        "Hybrid project management combines the structured checkpoints of stage-gate with the flexibility of agile methods.\n",
        "\n",
        "This approach keeps a clear overall framework while allowing rapid, iterative development within each phase.\n",
        "\n",
        "It emphasizes adaptability, speed, and customer involvement throughout the process.\n",
        "\n",
        "This blending of structure and agility reflects how organizations adapt to faster, more uncertain environments.\n",
        "\n",
        "\n"
      ],
      "metadata": {
        "id": "JJ93Q338AfNi"
      }
    },
    {
      "cell_type": "markdown",
      "source": [
        "## **🟢The organizational side of Project Management**"
      ],
      "metadata": {
        "id": "iFADDP1a_vYc"
      }
    },
    {
      "cell_type": "markdown",
      "source": [
        "### **◽Processes VS Projects**"
      ],
      "metadata": {
        "id": "Y1nlbpy3CpxW"
      }
    },
    {
      "cell_type": "markdown",
      "source": [
        "#### **💠What is a project**"
      ],
      "metadata": {
        "id": "oOIhV9WVCrSr"
      }
    },
    {
      "cell_type": "markdown",
      "source": [
        "\n",
        "*A project is an endeavour in which human, material and financial resources are organised ion a novel way, to undertake a unique scope of work, or given specification, within constraints of cost and time, so as to achieve beneficial change defined by quanitative and qualitative objectives.*\n",
        "\n",
        "-J. R. Turner\n",
        "\n",
        "**Iron Triangle**\n",
        "\n",
        " * Scope\n",
        " * Time\n",
        " * Cost\n",
        "\n",
        "This elements are interconnected and they affects each other but are no equal.\n",
        "\n"
      ],
      "metadata": {
        "id": "ILp732EICrSs"
      }
    }
  ]
}