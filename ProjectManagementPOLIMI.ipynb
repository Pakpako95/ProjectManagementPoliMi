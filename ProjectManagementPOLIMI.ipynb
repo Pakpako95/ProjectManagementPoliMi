{
  "nbformat": 4,
  "nbformat_minor": 0,
  "metadata": {
    "colab": {
      "provenance": [],
      "authorship_tag": "ABX9TyPW52MrT1ZNP/5WKii5zCRz",
      "include_colab_link": true
    },
    "kernelspec": {
      "name": "python3",
      "display_name": "Python 3"
    },
    "language_info": {
      "name": "python"
    }
  },
  "cells": [
    {
      "cell_type": "markdown",
      "metadata": {
        "id": "view-in-github",
        "colab_type": "text"
      },
      "source": [
        "<a href=\"https://colab.research.google.com/github/Pakpako95/ProjectManagementPoliMi/blob/main/ProjectManagementPOLIMI.ipynb\" target=\"_parent\"><img src=\"https://colab.research.google.com/assets/colab-badge.svg\" alt=\"Open In Colab\"/></a>"
      ]
    },
    {
      "cell_type": "markdown",
      "source": [
        "## **🟢Introduction to Projects and Project Management Principles**"
      ],
      "metadata": {
        "id": "ifuVhSIOQEpf"
      }
    },
    {
      "cell_type": "markdown",
      "source": [
        "### **◽Processes VS Projects**"
      ],
      "metadata": {
        "id": "Da4I4X2wQUB2"
      }
    },
    {
      "cell_type": "markdown",
      "source": [
        "#### **💠What is a project**"
      ],
      "metadata": {
        "id": "ZwvfBE2VQZOC"
      }
    },
    {
      "cell_type": "markdown",
      "source": [
        "\n",
        "*A project is an endeavour in which human, material and financial resources are organised ion a novel way, to undertake a unique scope of work, or given specification, within constraints of cost and time, so as to achieve beneficial change defined by quanitative and qualitative objectives.*\n",
        "\n",
        "-J. R. Turner\n",
        "\n",
        "**Iron Triangle**\n",
        "\n",
        " * Scope\n",
        " * Time\n",
        " * Cost\n",
        "\n",
        "This elements are interconnected and they affects each other but are no equal.\n",
        "\n"
      ],
      "metadata": {
        "id": "aV-IvT9JQ4qa"
      }
    },
    {
      "cell_type": "markdown",
      "source": [
        "#### **💠Processes and processes**"
      ],
      "metadata": {
        "id": "cUd27BxBViNF"
      }
    },
    {
      "cell_type": "markdown",
      "source": [
        "\n",
        "Managers are required to organise their resources to get the job done.\n",
        "\n",
        "* **Processes:** Doing better what we already do.\n",
        "\n",
        "* **Projects:** Introduce new results, outputs or processes.\n",
        "\n",
        "Projects are the art of master innovation and change.\n",
        "\n",
        "Output: A project outcome is not routinary and standard, but UNIQUE.\n",
        "\n",
        "Projects are processes that have never been done before.\n",
        "\n",
        "**The Learning Curve Effect. To major repetition minor time required.\n",
        "\n",
        "**The more we move away from the pure processes the more we will have to introduce new tools, new techniques and approaches to face the uniqueness of the project**\n",
        "\n",
        "\n"
      ],
      "metadata": {
        "id": "ML1iltj5ViNG"
      }
    },
    {
      "cell_type": "markdown",
      "source": [
        "#### **💠Projects, programs and portfolios**"
      ],
      "metadata": {
        "id": "6Hg4B2rZYPmZ"
      }
    },
    {
      "cell_type": "markdown",
      "source": [
        "* **Project:** Is a set of activites to achieve a unique output, in compliance with time and cost constraints.\n",
        "\n",
        "* **Programs:** A program is a set of projects.\n",
        "\n",
        "\n",
        "* **Portfolios:** Is a set of programs and projects.\n",
        "\n"
      ],
      "metadata": {
        "id": "5fZ20aYdBJRg"
      }
    },
    {
      "cell_type": "markdown",
      "source": [
        "#### **💠Projects as arrays of decisions**"
      ],
      "metadata": {
        "id": "JVis37PeBKxu"
      }
    },
    {
      "cell_type": "markdown",
      "source": [
        "A project is an array of decisions to be made. *Projects are managerial tools to obtain unique and novel outputs*.\n",
        "\n",
        "Consider a decisions cycle with opportunities and constraints.\n"
      ],
      "metadata": {
        "id": "51vxEILQBKxv"
      }
    },
    {
      "cell_type": "markdown",
      "source": [
        "#### **💠Cost-to-change and uncertainty**"
      ],
      "metadata": {
        "id": "IlPs6v3eDc89"
      }
    },
    {
      "cell_type": "markdown",
      "source": [
        "**Cost-to-change:** The cost of change increase exponentially with the time. It is important to decide when is the better time to make changes according to the project.\n",
        "\n",
        "**Uncertainty:** When we start a project, we know what to expect but not how to achieve it. The Uncertainty is high at the beginning of a project, but with the time is going down because it is normalizing the expected results according to the natural progress.\n",
        "\n",
        "The combined effect off this two curves allow a Window Opportunity. This is where the decision should be taken. Enlarge this window as much as possible. (Front Loading is the beginning of this space, and the other one is called Flexibility)\n",
        "\n",
        "\n"
      ],
      "metadata": {
        "id": "6DNsh5cPDc8-"
      }
    }
  ]
}